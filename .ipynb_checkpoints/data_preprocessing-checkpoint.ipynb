{
 "cells": [
  {
   "cell_type": "code",
   "execution_count": 1,
   "id": "b67425fd",
   "metadata": {},
   "outputs": [],
   "source": [
    "import os\n",
    "import pandas as pd\n",
    "import random"
   ]
  },
  {
   "cell_type": "markdown",
   "id": "58dfc582",
   "metadata": {},
   "source": [
    "### Generate Dataset"
   ]
  },
  {
   "cell_type": "code",
   "execution_count": 5,
   "id": "85be3465",
   "metadata": {},
   "outputs": [],
   "source": [
    "import os\n",
    "import pandas as pd\n",
    "import random\n",
    "\n",
    "def generate_employee_turnover_dataset(num_samples=1000):\n",
    "    \"\"\"\n",
    "    Generate a synthetic dataset on employee turnover and save it to a CSV file.\n",
    "\n",
    "    Parameters:\n",
    "    - num_samples (int): The number of samples (employee records) to generate in the dataset.\n",
    "\n",
    "    Returns:\n",
    "    - pandas.DataFrame: A DataFrame containing the generated employee turnover data.\n",
    "\n",
    "    The generated dataset includes the following columns:\n",
    "    - EmployeeID: Unique identifier for each employee.\n",
    "    - Age: Employee's age (randomly generated between 22 and 65).\n",
    "    - Gender: Employee's gender (randomly selected from \"Male\" or \"Female\").\n",
    "    - MaritalStatus: Employee's marital status (randomly selected from \"Single\", \"Married\", or \"Divorced\").\n",
    "    - Education: Employee's education level (randomly selected from \"High School\", \"Bachelor's\", \"Master's\", or \"PhD\").\n",
    "    - Department: Employee's department (randomly selected from predefined department names).\n",
    "    - JobRole: Employee's job role (randomly selected from predefined job roles).\n",
    "    - MonthlyIncome: Employee's monthly income (randomly generated within a specified range).\n",
    "    - YearsAtCompany: Number of years the employee has been with the company (randomly generated).\n",
    "    - TotalWorkingYears: Total number of years the employee has worked (randomly generated).\n",
    "    - YearsInCurrentRole: Number of years the employee has been in their current role (randomly generated).\n",
    "    - Attrition: Employee attrition status (randomly selected from \"Yes\" or \"No\").\n",
    "\n",
    "    The dataset is saved to a CSV file named \"employee_turnover_dataset.csv\" in a folder named \"data.\"\n",
    "    \"\"\"\n",
    "    # Define possible values for categorical attributes\n",
    "    departments = [\"HR\", \"Finance\", \"IT\", \"Marketing\", \"Sales\"]\n",
    "    job_roles = [\"Manager\", \"Developer\", \"Designer\", \"Analyst\", \"HR Specialist\", \"Sales Representative\"]\n",
    "    education_levels = [\"High School\", \"Bachelor's\", \"Master's\", \"PhD\"]\n",
    "    marital_statuses = [\"Single\", \"Married\", \"Divorced\"]\n",
    "    genders = [\"Male\", \"Female\"]\n",
    "\n",
    "    # Check if the \"data\" folder exists; if not, create it\n",
    "    if not os.path.exists(\"data\"):\n",
    "        os.makedirs(\"data\")\n",
    "\n",
    "    # Initialize an empty DataFrame\n",
    "    data = pd.DataFrame(columns=[\"EmployeeID\", \"Age\", \"Gender\", \"MaritalStatus\", \"Education\", \n",
    "                                 \"Department\", \"JobRole\", \"MonthlyIncome\", \"YearsAtCompany\", \n",
    "                                 \"TotalWorkingYears\", \"YearsInCurrentRole\", \"Attrition\"])\n",
    "\n",
    "    # Generate random data for the dataset\n",
    "    for i in range(num_samples):\n",
    "        employee_id = i + 1\n",
    "        age = random.randint(22, 65)\n",
    "        gender = random.choice(genders)\n",
    "        marital_status = random.choice(marital_statuses)\n",
    "        education = random.choice(education_levels)\n",
    "        department = random.choice(departments)\n",
    "        job_role = random.choice(job_roles)\n",
    "        monthly_income = random.randint(2500, 15000)\n",
    "        years_at_company = random.randint(0, 30)\n",
    "        total_working_years = random.randint(0, 40)\n",
    "        years_in_current_role = random.randint(0, years_at_company)\n",
    "        attrition = random.choice([\"Yes\", \"No\"])\n",
    "        \n",
    "        # Create a new row as a DataFrame and append it to the existing data\n",
    "        new_row = pd.DataFrame({\n",
    "            \"EmployeeID\": [employee_id],\n",
    "            \"Age\": [age],\n",
    "            \"Gender\": [gender],\n",
    "            \"MaritalStatus\": [marital_status],\n",
    "            \"Education\": [education],\n",
    "            \"Department\": [department],\n",
    "            \"JobRole\": [job_role],\n",
    "            \"MonthlyIncome\": [monthly_income],\n",
    "            \"YearsAtCompany\": [years_at_company],\n",
    "            \"TotalWorkingYears\": [total_working_years],\n",
    "            \"YearsInCurrentRole\": [years_in_current_role],\n",
    "            \"Attrition\": [attrition]\n",
    "        })\n",
    "        data = pd.concat([data, new_row], ignore_index=True)\n",
    "\n",
    "    # Save the dataset to a CSV file inside the \"data\" folder\n",
    "    data.to_csv(\"data/employee_turnover_dataset.csv\", index=False)\n",
    "\n",
    "    return data"
   ]
  },
  {
   "cell_type": "code",
   "execution_count": 6,
   "id": "64ca439a",
   "metadata": {
    "scrolled": false
   },
   "outputs": [
    {
     "name": "stdout",
     "output_type": "stream",
     "text": [
      "No CSV files found in the 'data' folder.\n",
      "New dataset has been generated.\n"
     ]
    }
   ],
   "source": [
    "# Check if the \"data\" folder exists\n",
    "if os.path.exists(\"data\") and os.path.isdir(\"data\"):\n",
    "    # List files in the \"data\" folder\n",
    "    files_in_data_folder = os.listdir(\"data\")\n",
    "\n",
    "    # Check if there's a CSV file in the folder\n",
    "    csv_files = [file for file in files_in_data_folder if file.endswith(\".csv\")]\n",
    "\n",
    "    if csv_files:\n",
    "        print(\"CSV file(s) found in the 'data' folder:\")\n",
    "        for csv_file in csv_files:\n",
    "            print(csv_file)\n",
    "    else:\n",
    "        print(\"No CSV files found in the 'data' folder.\")\n",
    "        generate_employee_turnover_dataset(num_samples=1000)\n",
    "        print(\"New dataset has been generated.\")\n",
    "else:\n",
    "    print(\"The 'data' folder does not exist.\")\n",
    "    os.makedirs(\"data\")\n",
    "    generate_employee_turnover_dataset(num_samples=1000)\n"
   ]
  }
 ],
 "metadata": {
  "kernelspec": {
   "display_name": "Python 3 (ipykernel)",
   "language": "python",
   "name": "python3"
  },
  "language_info": {
   "codemirror_mode": {
    "name": "ipython",
    "version": 3
   },
   "file_extension": ".py",
   "mimetype": "text/x-python",
   "name": "python",
   "nbconvert_exporter": "python",
   "pygments_lexer": "ipython3",
   "version": "3.9.16"
  }
 },
 "nbformat": 4,
 "nbformat_minor": 5
}
