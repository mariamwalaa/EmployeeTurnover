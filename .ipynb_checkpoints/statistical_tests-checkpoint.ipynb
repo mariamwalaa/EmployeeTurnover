{
 "cells": [
  {
   "cell_type": "code",
   "execution_count": 1,
   "id": "5cdcd82a",
   "metadata": {},
   "outputs": [
    {
     "name": "stderr",
     "output_type": "stream",
     "text": [
      "C:\\Program Files\\ArcGIS\\Pro\\bin\\Python\\envs\\arcgispro-py3\\lib\\site-packages\\scipy\\__init__.py:138: UserWarning: A NumPy version >=1.16.5 and <1.23.0 is required for this version of SciPy (detected version 1.24.2)\n",
      "  warnings.warn(f\"A NumPy version >={np_minversion} and <{np_maxversion} is required for this version of \"\n"
     ]
    },
    {
     "name": "stdout",
     "output_type": "stream",
     "text": [
      "T-statistic: -2.0901825802289546\n",
      "P-value: 0.051062251476693875\n",
      "There is no statistically significant difference in monthly incomes.\n"
     ]
    }
   ],
   "source": [
    "import pandas as pd\n",
    "import scipy.stats as stats\n",
    "\n",
    "# Load the dataset\n",
    "data = pd.read_csv('data/employee_turnover_dataset.csv')  # Updated file name\n",
    "\n",
    "# Hypothesis testing and statistical analysis steps\n",
    "# Example: Perform a t-test to compare monthly incomes of employees with and without attrition\n",
    "attrition_yes = data[data['Attrition'] == 'Yes']['MonthlyIncome']\n",
    "attrition_no = data[data['Attrition'] == 'No']['MonthlyIncome']\n",
    "\n",
    "t_stat, p_value = stats.ttest_ind(attrition_yes, attrition_no)\n",
    "\n",
    "print(f\"T-statistic: {t_stat}\")\n",
    "print(f\"P-value: {p_value}\")\n",
    "\n",
    "if p_value < 0.05:\n",
    "    print(\"The difference in monthly incomes is statistically significant.\")\n",
    "else:\n",
    "    print(\"There is no statistically significant difference in monthly incomes.\")\n"
   ]
  }
 ],
 "metadata": {
  "kernelspec": {
   "display_name": "Python 3 (ipykernel)",
   "language": "python",
   "name": "python3"
  },
  "language_info": {
   "codemirror_mode": {
    "name": "ipython",
    "version": 3
   },
   "file_extension": ".py",
   "mimetype": "text/x-python",
   "name": "python",
   "nbconvert_exporter": "python",
   "pygments_lexer": "ipython3",
   "version": "3.9.16"
  }
 },
 "nbformat": 4,
 "nbformat_minor": 5
}
