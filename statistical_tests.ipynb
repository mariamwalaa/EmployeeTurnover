{
 "cells": [
  {
   "cell_type": "code",
   "execution_count": 1,
   "id": "5cdcd82a",
   "metadata": {},
   "outputs": [
    {
     "name": "stdout",
     "output_type": "stream",
     "text": [
      "T-statistic: 0.2457831108069483\n",
      "P-value: 0.8059006676698344\n",
      "There is no statistically significant difference in monthly incomes.\n"
     ]
    }
   ],
   "source": [
    "import pandas as pd\n",
    "import scipy.stats as stats\n",
    "\n",
    "# Load the dataset\n",
    "data = pd.read_csv('data/employee_turnover_dataset.csv')  # Updated file name\n",
    "\n",
    "# Hypothesis testing and statistical analysis steps\n",
    "# Example: Perform a t-test to compare monthly incomes of employees with and without attrition\n",
    "attrition_yes = data[data['Attrition'] == 'Yes']['MonthlyIncome']\n",
    "attrition_no = data[data['Attrition'] == 'No']['MonthlyIncome']\n",
    "\n",
    "t_stat, p_value = stats.ttest_ind(attrition_yes, attrition_no)\n",
    "\n",
    "print(f\"T-statistic: {t_stat}\")\n",
    "print(f\"P-value: {p_value}\")\n",
    "\n",
    "if p_value < 0.05:\n",
    "    print(\"The difference in monthly incomes is statistically significant.\")\n",
    "else:\n",
    "    print(\"There is no statistically significant difference in monthly incomes.\")\n"
   ]
  }
 ],
 "metadata": {
  "kernelspec": {
   "display_name": "Python 3 (ipykernel)",
   "language": "python",
   "name": "python3"
  },
  "language_info": {
   "codemirror_mode": {
    "name": "ipython",
    "version": 3
   },
   "file_extension": ".py",
   "mimetype": "text/x-python",
   "name": "python",
   "nbconvert_exporter": "python",
   "pygments_lexer": "ipython3",
   "version": "3.9.16"
  }
 },
 "nbformat": 4,
 "nbformat_minor": 5
}
